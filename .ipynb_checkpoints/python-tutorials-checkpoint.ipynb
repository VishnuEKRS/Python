{
 "cells": [
  {
   "cell_type": "code",
   "execution_count": 3,
   "id": "7b39801e",
   "metadata": {},
   "outputs": [
    {
     "name": "stdout",
     "output_type": "stream",
     "text": [
      "Hello, World!\n"
     ]
    }
   ],
   "source": [
    "print (\"Hello, World!\")"
   ]
  },
  {
   "cell_type": "markdown",
   "id": "a188e85d",
   "metadata": {},
   "source": [
    "#### Python Reserved Words"
   ]
  },
  {
   "cell_type": "code",
   "execution_count": 4,
   "id": "dc3a192a",
   "metadata": {},
   "outputs": [
    {
     "name": "stdout",
     "output_type": "stream",
     "text": [
      "\n",
      "Here is a list of the Python keywords.  Enter any keyword to get more help.\n",
      "\n",
      "False               break               for                 not\n",
      "None                class               from                or\n",
      "True                continue            global              pass\n",
      "__peg_parser__      def                 if                  raise\n",
      "and                 del                 import              return\n",
      "as                  elif                in                  try\n",
      "assert              else                is                  while\n",
      "async               except              lambda              with\n",
      "await               finally             nonlocal            yield\n",
      "\n"
     ]
    }
   ],
   "source": [
    "help(\"keywords\")"
   ]
  },
  {
   "cell_type": "markdown",
   "id": "d176324e",
   "metadata": {},
   "source": [
    "#### Python Lines and Indentation"
   ]
  },
  {
   "cell_type": "code",
   "execution_count": 6,
   "id": "55f77f06",
   "metadata": {},
   "outputs": [
    {
     "name": "stdout",
     "output_type": "stream",
     "text": [
      "True\n"
     ]
    }
   ],
   "source": [
    "if True:\n",
    "   print (\"True\")\n",
    "else:\n",
    "   print (\"False\")"
   ]
  },
  {
   "cell_type": "markdown",
   "id": "c559f368",
   "metadata": {},
   "source": [
    "#### Python Multi-Line Statements"
   ]
  },
  {
   "cell_type": "code",
   "execution_count": 7,
   "id": "295c316f",
   "metadata": {},
   "outputs": [
    {
     "name": "stdout",
     "output_type": "stream",
     "text": [
      "60\n"
     ]
    }
   ],
   "source": [
    "result = (10 +\n",
    "          20 +\n",
    "          30)\n",
    "\n",
    "print(result)"
   ]
  },
  {
   "cell_type": "code",
   "execution_count": 8,
   "id": "eeebd43b",
   "metadata": {},
   "outputs": [],
   "source": [
    "my_dict = {'a': 1,\n",
    "           'b': 2,\n",
    "           'c': 3}\n",
    "\n",
    "my_set = {1,\n",
    "          2,\n",
    "          3}\n"
   ]
  },
  {
   "cell_type": "code",
   "execution_count": 9,
   "id": "39e13f41",
   "metadata": {},
   "outputs": [],
   "source": [
    "my_list = [10,\n",
    "           20,\n",
    "           30]\n"
   ]
  },
  {
   "cell_type": "markdown",
   "id": "5ca264dd",
   "metadata": {},
   "source": [
    "#### Quotations in Python"
   ]
  },
  {
   "cell_type": "code",
   "execution_count": 10,
   "id": "d4be7ff2",
   "metadata": {},
   "outputs": [
    {
     "name": "stdout",
     "output_type": "stream",
     "text": [
      "word\n",
      "This is a sentence.\n",
      "This is a paragraph. It is\n",
      " made up of multiple lines and sentences.\n"
     ]
    }
   ],
   "source": [
    "word = 'word'\n",
    "print (word)\n",
    "\n",
    "sentence = \"This is a sentence.\"\n",
    "print (sentence)\n",
    "\n",
    "paragraph = \"\"\"This is a paragraph. It is\n",
    " made up of multiple lines and sentences.\"\"\"\n",
    "print (paragraph)"
   ]
  },
  {
   "cell_type": "markdown",
   "id": "4fd987fd",
   "metadata": {},
   "source": [
    "#### Comment"
   ]
  },
  {
   "cell_type": "code",
   "execution_count": null,
   "id": "9ff5cc8b",
   "metadata": {},
   "outputs": [],
   "source": [
    "'''\n",
    "This is a multiline\n",
    "comment.\n",
    "'''"
   ]
  },
  {
   "cell_type": "markdown",
   "id": "dc0d94b2",
   "metadata": {},
   "source": [
    "#### Using Blank Lines in Python Programs"
   ]
  },
  {
   "cell_type": "code",
   "execution_count": 13,
   "id": "248ccddd",
   "metadata": {},
   "outputs": [
    {
     "name": "stdout",
     "output_type": "stream",
     "text": [
      "Press the enter key to exit.\n"
     ]
    },
    {
     "data": {
      "text/plain": [
       "''"
      ]
     },
     "execution_count": 13,
     "metadata": {},
     "output_type": "execute_result"
    }
   ],
   "source": [
    "input(\"Press the enter key to exit.\")"
   ]
  },
  {
   "cell_type": "code",
   "execution_count": 12,
   "id": "cc44c481",
   "metadata": {},
   "outputs": [
    {
     "name": "stdout",
     "output_type": "stream",
     "text": [
      "\n",
      "\n",
      "Press the enter key to exit.\n"
     ]
    },
    {
     "data": {
      "text/plain": [
       "''"
      ]
     },
     "execution_count": 12,
     "metadata": {},
     "output_type": "execute_result"
    }
   ],
   "source": [
    "input(\"\\n\\nPress the enter key to exit.\")# Adding two line before showing the result"
   ]
  },
  {
   "cell_type": "markdown",
   "id": "fb8d321c",
   "metadata": {},
   "source": [
    "#### Mulitple Statement on a Single Line"
   ]
  },
  {
   "cell_type": "code",
   "execution_count": null,
   "id": "b29438d8",
   "metadata": {},
   "outputs": [],
   "source": [
    "import sys; x = 'foo'; sys.stdout.write(x + '\\n')"
   ]
  },
  {
   "cell_type": "markdown",
   "id": "eba72b50",
   "metadata": {},
   "source": [
    "#### Variables"
   ]
  },
  {
   "cell_type": "code",
   "execution_count": 16,
   "id": "752cfb64",
   "metadata": {},
   "outputs": [],
   "source": [
    "counter = 100          # Creates an integer variable\n",
    "miles   = 1000.0       # Creates a floating point variable\n",
    "name    = \"Zara Ali\"   # Creates a string variable\n",
    "account = True"
   ]
  },
  {
   "cell_type": "code",
   "execution_count": 17,
   "id": "335db0be",
   "metadata": {},
   "outputs": [
    {
     "data": {
      "text/plain": [
       "2611408880048"
      ]
     },
     "execution_count": 17,
     "metadata": {},
     "output_type": "execute_result"
    }
   ],
   "source": [
    "id(name)"
   ]
  },
  {
   "cell_type": "code",
   "execution_count": 18,
   "id": "e26a5965",
   "metadata": {},
   "outputs": [],
   "source": [
    "del counter"
   ]
  },
  {
   "cell_type": "code",
   "execution_count": 19,
   "id": "42d071a7",
   "metadata": {},
   "outputs": [
    {
     "data": {
      "text/plain": [
       "bool"
      ]
     },
     "execution_count": 19,
     "metadata": {},
     "output_type": "execute_result"
    }
   ],
   "source": [
    "type(account)"
   ]
  },
  {
   "cell_type": "code",
   "execution_count": 20,
   "id": "88dcd676",
   "metadata": {},
   "outputs": [
    {
     "name": "stdout",
     "output_type": "stream",
     "text": [
      "x = 10\n",
      "y = 10\n",
      "z = 10.0\n"
     ]
    }
   ],
   "source": [
    "x = str(10)    # x will be '10'\n",
    "y = int(10)    # y will be 10 \n",
    "z = float(10)  # z will be 10.0\n",
    "\n",
    "print( \"x =\", x )\n",
    "print( \"y =\", y )\n",
    "print( \"z =\", z )"
   ]
  },
  {
   "cell_type": "code",
   "execution_count": 21,
   "id": "b4d3b423",
   "metadata": {},
   "outputs": [
    {
     "name": "stdout",
     "output_type": "stream",
     "text": [
      "10 10 10\n"
     ]
    }
   ],
   "source": [
    "a=b=c=10\n",
    "print (a,b,c)"
   ]
  },
  {
   "cell_type": "code",
   "execution_count": 22,
   "id": "67980136",
   "metadata": {},
   "outputs": [
    {
     "name": "stdout",
     "output_type": "stream",
     "text": [
      "1\n",
      "2\n",
      "Zara Ali\n"
     ]
    }
   ],
   "source": [
    "a,b,c = 1,2,\"Zara Ali\"\n",
    "\n",
    "print (a)\n",
    "print (b)\n",
    "print (c)"
   ]
  },
  {
   "cell_type": "code",
   "execution_count": null,
   "id": "253b9862",
   "metadata": {},
   "outputs": [],
   "source": [
    "#Variable naming conventions\n",
    "counter = 100\n",
    "_count  = 100\n",
    "name1 = \"Zara\"\n",
    "name2 = \"Nuha\"\n",
    "Age  = 20\n",
    "zara_salary = 100000"
   ]
  },
  {
   "cell_type": "markdown",
   "id": "6ecf67ab",
   "metadata": {},
   "source": [
    "- Numeric - int, float, complex\n",
    "- String - str\n",
    "- Sequence -\tlist, tuple, range\n",
    "- Binary - bytes, bytearray, memoryview\n",
    "- Mapping\t- dict\n",
    "- Boolean\t- bool\n",
    "- Set\t- set, frozenset\n",
    "- None - NoneType"
   ]
  },
  {
   "cell_type": "code",
   "execution_count": null,
   "id": "852a8f21",
   "metadata": {},
   "outputs": [],
   "source": [
    "#Numeric data types\n",
    "var1 = 1       # int data type\n",
    "var2 = True    # bool data type\n",
    "var3 = 10.023  # float data type\n",
    "var4 = 10+3j   # complex data type"
   ]
  },
  {
   "cell_type": "code",
   "execution_count": null,
   "id": "9ba728fc",
   "metadata": {},
   "outputs": [],
   "source": [
    "str = 'Hello World!'"
   ]
  },
  {
   "cell_type": "code",
   "execution_count": 24,
   "id": "8fb87026",
   "metadata": {},
   "outputs": [],
   "source": [
    "boolean = True"
   ]
  },
  {
   "cell_type": "code",
   "execution_count": 23,
   "id": "45b91462",
   "metadata": {},
   "outputs": [],
   "source": [
    "list = [ 'abcd', 786 , 2.23, 'john', 70.2 ]"
   ]
  },
  {
   "cell_type": "code",
   "execution_count": null,
   "id": "b7503f37",
   "metadata": {},
   "outputs": [],
   "source": [
    "tuple = (2023, \"Python\", 3.11, 5+6j, 1.23E-4, ['One', 'Two', 'Three'], 1,2.0,3, (1.0, 2.0, 3.0))"
   ]
  },
  {
   "cell_type": "code",
   "execution_count": null,
   "id": "d79a29d9",
   "metadata": {},
   "outputs": [],
   "source": [
    "dict = {'name': 'john','code':6734, 'dept': 'sales'}"
   ]
  },
  {
   "cell_type": "code",
   "execution_count": null,
   "id": "1da74f92",
   "metadata": {},
   "outputs": [],
   "source": [
    "set = {(5+6j), 3.11, 0.000123, 'Python', 2023}"
   ]
  },
  {
   "cell_type": "code",
   "execution_count": null,
   "id": "b5144ab8",
   "metadata": {},
   "outputs": [],
   "source": [
    "for i in range(1, 5, 2):\n",
    "  print(i)"
   ]
  },
  {
   "cell_type": "code",
   "execution_count": null,
   "id": "8b1c695d",
   "metadata": {},
   "outputs": [],
   "source": [
    "#Casting\n",
    "a=int(True)"
   ]
  },
  {
   "cell_type": "code",
   "execution_count": 25,
   "id": "a7a44b75",
   "metadata": {},
   "outputs": [],
   "source": [
    "#float functoin\n",
    "a = float(9.99)"
   ]
  },
  {
   "cell_type": "code",
   "execution_count": null,
   "id": "0d534245",
   "metadata": {},
   "outputs": [],
   "source": [
    "#string function\n",
    "a = str(10)"
   ]
  },
  {
   "cell_type": "code",
   "execution_count": null,
   "id": "4c396532",
   "metadata": {},
   "outputs": [],
   "source": [
    "#sequence type conversion\n",
    "a=[1,2,3,4,5]   # List Object\n",
    "b=(1,2,3,4,5)   # Tupple Object\n",
    "c=\"Hello\"       # String Object"
   ]
  },
  {
   "cell_type": "code",
   "execution_count": null,
   "id": "7535545b",
   "metadata": {},
   "outputs": [],
   "source": [
    "### list() separates each character in the string and builds the list\n",
    "<<< obj=list(c)\n",
    "<<< obj\n",
    "['H', 'e', 'l', 'l', 'o']\n",
    "\n",
    "### The parentheses of tuple are replaced by square brackets\n",
    "<<< obj=list(b)\n",
    "<<< obj\n",
    "[1, 2, 3, 4, 5]\n",
    "\n",
    "### tuple() separates each character from string and builds a tuple of characters\n",
    "<<< obj=tuple(c)\n",
    "<<< obj\n",
    "('H', 'e', 'l', 'l', 'o')\n",
    "\n",
    "### square brackets of list are replaced by parentheses.\n",
    "<<< obj=tuple(a)\n",
    "<<< obj\n",
    "(1, 2, 3, 4, 5)\n",
    "\n",
    "### str() function puts the list and tuple inside the quote symbols.\n",
    "<<< obj=str(a)\n",
    "<<< obj\n",
    "'[1, 2, 3, 4, 5]'\n",
    "\n",
    "<<< obj=str(b)\n",
    "<<< obj\n",
    "'(1, 2, 3, 4, 5)'"
   ]
  },
  {
   "cell_type": "code",
   "execution_count": 33,
   "id": "5f34d891",
   "metadata": {},
   "outputs": [
    {
     "ename": "TypeError",
     "evalue": "'list' object is not callable",
     "output_type": "error",
     "traceback": [
      "\u001b[1;31m---------------------------------------------------------------------------\u001b[0m",
      "\u001b[1;31mTypeError\u001b[0m                                 Traceback (most recent call last)",
      "\u001b[1;32m~\\AppData\\Local\\Temp\\ipykernel_50784\\1953336261.py\u001b[0m in \u001b[0;36m<module>\u001b[1;34m\u001b[0m\n\u001b[1;32m----> 1\u001b[1;33m \u001b[0mlist\u001b[0m\u001b[1;33m(\u001b[0m\u001b[1;33m)\u001b[0m\u001b[1;33m\u001b[0m\u001b[1;33m\u001b[0m\u001b[0m\n\u001b[0m",
      "\u001b[1;31mTypeError\u001b[0m: 'list' object is not callable"
     ]
    }
   ],
   "source": [
    "list()"
   ]
  },
  {
   "cell_type": "code",
   "execution_count": 34,
   "id": "3904a555",
   "metadata": {},
   "outputs": [
    {
     "ename": "TypeError",
     "evalue": "'list' object is not callable",
     "output_type": "error",
     "traceback": [
      "\u001b[1;31m---------------------------------------------------------------------------\u001b[0m",
      "\u001b[1;31mTypeError\u001b[0m                                 Traceback (most recent call last)",
      "\u001b[1;32m~\\AppData\\Local\\Temp\\ipykernel_50784\\3696754556.py\u001b[0m in \u001b[0;36m<module>\u001b[1;34m\u001b[0m\n\u001b[0;32m      2\u001b[0m \u001b[1;33m\u001b[0m\u001b[0m\n\u001b[0;32m      3\u001b[0m \u001b[1;31m# convert string to list\u001b[0m\u001b[1;33m\u001b[0m\u001b[1;33m\u001b[0m\u001b[0m\n\u001b[1;32m----> 4\u001b[1;33m \u001b[0mtext_list\u001b[0m \u001b[1;33m=\u001b[0m \u001b[0mlist\u001b[0m\u001b[1;33m(\u001b[0m\u001b[0mtext\u001b[0m\u001b[1;33m)\u001b[0m\u001b[1;33m\u001b[0m\u001b[1;33m\u001b[0m\u001b[0m\n\u001b[0m\u001b[0;32m      5\u001b[0m \u001b[0mprint\u001b[0m\u001b[1;33m(\u001b[0m\u001b[0mtext_list\u001b[0m\u001b[1;33m)\u001b[0m\u001b[1;33m\u001b[0m\u001b[1;33m\u001b[0m\u001b[0m\n\u001b[0;32m      6\u001b[0m \u001b[1;33m\u001b[0m\u001b[0m\n",
      "\u001b[1;31mTypeError\u001b[0m: 'list' object is not callable"
     ]
    }
   ],
   "source": [
    "text = 'Python'\n",
    "\n",
    "# convert string to list\n",
    "text_list = list(text)\n",
    "print(text_list)\n",
    "\n",
    "# check type of text_list\n",
    "print(type(text_list))\n",
    "\n",
    "# Output: ['P', 'y', 't', 'h', 'o', 'n']\n",
    "#         <class 'list'> "
   ]
  },
  {
   "cell_type": "code",
   "execution_count": 35,
   "id": "5241e834",
   "metadata": {},
   "outputs": [
    {
     "name": "stdout",
     "output_type": "stream",
     "text": [
      "3/4\n",
      "¾\n"
     ]
    }
   ],
   "source": [
    "# python uni-code\n",
    "var = \"3/4\"\n",
    "print (var)\n",
    "var = \"\\u00BE\"\n",
    "print (var)"
   ]
  },
  {
   "cell_type": "code",
   "execution_count": 39,
   "id": "649c610d",
   "metadata": {},
   "outputs": [
    {
     "name": "stdout",
     "output_type": "stream",
     "text": [
      "6\n",
      "2\n",
      "8\n",
      "2.0\n",
      "0\n",
      "2\n"
     ]
    }
   ],
   "source": [
    "# operators\n",
    "a = 4\n",
    "b = 2\n",
    "\n",
    "print(a + b)\n",
    "print(a - b)\n",
    "print(a * b)\n",
    "print(a / b)\n",
    "print(a % b)\n",
    "print(a//b)"
   ]
  },
  {
   "cell_type": "code",
   "execution_count": 46,
   "id": "29a045b4",
   "metadata": {},
   "outputs": [
    {
     "name": "stdout",
     "output_type": "stream",
     "text": [
      "False\n",
      "True\n",
      "True\n",
      "True\n",
      "\n"
     ]
    }
   ],
   "source": [
    "print(a == b)\n",
    "print(a > b)\n",
    "print(a != b)\n",
    "print(a >= b)\n",
    "print()"
   ]
  },
  {
   "cell_type": "code",
   "execution_count": 47,
   "id": "6626d13d",
   "metadata": {},
   "outputs": [
    {
     "name": "stdout",
     "output_type": "stream",
     "text": [
      "0\n"
     ]
    }
   ],
   "source": [
    "print(a & b)"
   ]
  },
  {
   "cell_type": "code",
   "execution_count": null,
   "id": "941857c0",
   "metadata": {},
   "outputs": [],
   "source": []
  }
 ],
 "metadata": {
  "kernelspec": {
   "display_name": "Python 3 (ipykernel)",
   "language": "python",
   "name": "python3"
  },
  "language_info": {
   "codemirror_mode": {
    "name": "ipython",
    "version": 3
   },
   "file_extension": ".py",
   "mimetype": "text/x-python",
   "name": "python",
   "nbconvert_exporter": "python",
   "pygments_lexer": "ipython3",
   "version": "3.9.13"
  }
 },
 "nbformat": 4,
 "nbformat_minor": 5
}

{
 "cells": [
  {
   "cell_type": "markdown",
   "id": "a3735008",
   "metadata": {},
   "source": [
    "# Python Constants\n",
    "\n",
    "## Summary\n",
    "\n",
    "In this tutorial, you'll learn about defining constants in Python.\n",
    "\n",
    "## Introduction to Python Constants\n",
    "\n",
    "In some scenarios, you might want to store values in variables that remain unchanged throughout the program's execution. While Python doesn't have a built-in constant type, you can follow a convention to create constants.\n",
    "\n",
    "## Creating Constants in Python\n",
    "\n",
    "To create a constant in Python, use all capital letters to name a variable. This naming convention indicates that the variable should be treated as a constant. For example:\n",
    "\n",
    "```python\n",
    "FILE_SIZE_LIMIT = 2000\n",
    "```\n",
    "\n",
    "It's important to note that these variables are considered constants by convention, not by strict rules. Python doesn't have a dedicated constant type, so the use of uppercase letters serves as a visual cue to treat the variable as constant-like.\n",
    "\n",
    "## Summary\n",
    "\n",
    "- Python doesn't have built-in constant types.\n",
    "- By convention, Python uses a variable whose name contains all capital letters to define a constant.\n",
    "- Constants in Python are more of a naming convention rather than a strict programming feature. The values can still be changed, but it's a signal to other programmers that the value should remain constant."
   ]
  },
  {
   "cell_type": "code",
   "execution_count": null,
   "id": "d7674120",
   "metadata": {},
   "outputs": [],
   "source": []
  }
 ],
 "metadata": {
  "kernelspec": {
   "display_name": "Python 3 (ipykernel)",
   "language": "python",
   "name": "python3"
  },
  "language_info": {
   "codemirror_mode": {
    "name": "ipython",
    "version": 3
   },
   "file_extension": ".py",
   "mimetype": "text/x-python",
   "name": "python",
   "nbconvert_exporter": "python",
   "pygments_lexer": "ipython3",
   "version": "3.9.13"
  }
 },
 "nbformat": 4,
 "nbformat_minor": 5
}
